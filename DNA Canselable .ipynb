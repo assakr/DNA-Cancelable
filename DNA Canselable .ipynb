{
 "cells": [
  {
   "cell_type": "code",
   "execution_count": 1,
   "metadata": {},
   "outputs": [],
   "source": [
    " #dna to amino\n",
    "aminodict = {\n",
    "      \"GCU\": \"A\",\"GCC\": \"A\",\"GCA\": \"A\",\"GCG\": \"A\",\n",
    "      \"UAA\": \"B\",\"UGA\": \"B\",\"UAG\": \"B\",\n",
    "        \"UGU\": \"C\",\"UGC\": \"C\",\n",
    "        \"GAU\": \"D\",\"GAC\": \"D\",\n",
    "        \"GAA\": \"E\",\"GAG\": \"E\",\n",
    "        \"UUU\": \"F\",\"UUC\": \"F\",\n",
    "        \"GGU\": \"G\",\"GGC\": \"G\",\"GGA\": \"G\",\"GGG\": \"G\",\n",
    "        \"CAU\": \"H\",\"CAC\": \"H\",\n",
    "        \"AUU\": \"I\",\"AUC\": \"I\",\"AUA\": \"I\",\n",
    "        \"AAA\": \"K\",\"AAG\": \"K\",\n",
    "        \"CUU\": \"L\",\"CUC\": \"L\",\"CUA\": \"L\",\"CUG\": \"L\",\n",
    "        \"AUG\": \"M\",\n",
    "        \"AAC\": \"N\",\"AAU\": \"N\",\n",
    "        \"UUG\": \"O\",\"UUA\": \"O\",\n",
    "        \"CCU\": \"P\",\"CCC\": \"P\",\"CCA\": \"P\",\"CCG\": \"P\",\n",
    "        \"CAA\": \"Q\",\"CAG\": \"Q\",\n",
    "        \"CGU\": \"R\",\"CGC\": \"R\",\"CGA\": \"R\",\"CGG\": \"R\",\n",
    "        \"UCU\": \"S\",\"UCC\": \"S\",\"UCA\": \"S\",\"UCG\": \"S\",\n",
    "        \"ACU\": \"T\",\"ACC\": \"T\",\"ACA\": \"T\",\"ACG\": \"T\",\n",
    "        \"AGA\": \"U\",\"AGG\": \"U\",\n",
    "        \"GUU\": \"V\",\"GUC\": \"V\",\"GUA\": \"V\",\"GUG\": \"V\",\n",
    "        \"UGG\": \"W\",\n",
    "        \"AGU\": \"X\",\"AGC\": \"X\",\n",
    "        \"UAU\": \"Y\",\n",
    "        \"UAC\": \"Z\"\n",
    "        }"
   ]
  },
  {
   "cell_type": "code",
   "execution_count": 2,
   "metadata": {},
   "outputs": [],
   "source": [
    " def dnaconvert(str1):\n",
    "        stt2=\"\"\n",
    "        for index in range(0,len(str1),2):\n",
    "                if str1[index:index+2]=='01':\n",
    "                            stt2 += 'C'\n",
    "                elif str1[index:index+2]=='00':\n",
    "                            stt2 += 'A'\n",
    "                elif str1[index:index+2]=='10':\n",
    "                            stt2 += 'G'\n",
    "                else :\n",
    "                            stt2 += 'U' \n",
    "        return(stt2)"
   ]
  },
  {
   "cell_type": "code",
   "execution_count": 3,
   "metadata": {},
   "outputs": [],
   "source": [
    "def binaryconvert(str1):\n",
    "        stt2=\"\"\n",
    "        for index in range(0,len(str1),1):\n",
    "                if str1[index:index+1]=='A':\n",
    "                            stt2 += '01'\n",
    "                elif str1[index:index+1]=='C':\n",
    "                            stt2 += '00'\n",
    "                elif str1[index:index+1]=='T'or str1[index:index+1]=='U':\n",
    "                            stt2 += '10'\n",
    "                else :\n",
    "                            stt2 += '11' \n",
    "        return(stt2)\n"
   ]
  },
  {
   "cell_type": "code",
   "execution_count": 4,
   "metadata": {},
   "outputs": [],
   "source": [
    "def dnaToAmino(str1):\n",
    "        stt2=\"\"\n",
    "        stt3=\"\"\n",
    "        for index in range(0,len(str1)-len(str1)%3,3):\n",
    "                w=str1[index:index+3]\n",
    "                x=aminodict[w]\n",
    "                stt2 +=x\n",
    "                #stt3 +=str(dnadec[x].index(w))\n",
    "\n",
    "        return(stt2)"
   ]
  },
  {
   "cell_type": "code",
   "execution_count": 5,
   "metadata": {},
   "outputs": [],
   "source": [
    "get_bin = lambda x: format(x, 'b')"
   ]
  },
  {
   "cell_type": "code",
   "execution_count": 6,
   "metadata": {},
   "outputs": [
    {
     "name": "stdout",
     "output_type": "stream",
     "text": [
      "100000\n"
     ]
    }
   ],
   "source": [
    "print(get_bin(32))"
   ]
  },
  {
   "cell_type": "code",
   "execution_count": 7,
   "metadata": {
    "scrolled": false
   },
   "outputs": [],
   "source": [
    "def worint(wor):\n",
    "\tfinal=[]\n",
    "#     for wor in words:\n",
    "\tz=0\n",
    "\tif len(wor)>=3:\n",
    "\t\tfor index in range(0,len(wor)-len(wor)%3,3):\n",
    "\t\t\tw=dnaToAmino(wor[index:index+3])\n",
    "\t\t\tz+=ord(w)\n",
    "\t\tz+=ord(wor[len(wor)-1])\n",
    "\n",
    "\telif len(wor)<3:\n",
    "\t\tfor index in range(0,len(wor)):\n",
    "\t\t\tz+=ord(wor[index])\n",
    "#             final.append(z)\n",
    "\treturn(z)\n",
    "\t\n",
    "\t   "
   ]
  },
  {
   "cell_type": "code",
   "execution_count": 8,
   "metadata": {},
   "outputs": [],
   "source": [
    "lines=[]\n",
    "\n",
    "with open('Finger-Data1.txt','r') as file:\n",
    "   \n",
    "    # reading each line    \n",
    "    for line in file:\n",
    "        lines.append(line) \n",
    "      \n",
    "          "
   ]
  },
  {
   "cell_type": "code",
   "execution_count": 9,
   "metadata": {},
   "outputs": [],
   "source": [
    "\n",
    "f = open(\"Finger-Data1mod.txt\", \"a\")\n",
    "   \n",
    "for index in range(0,len(lines)):\n",
    "    for word in lines[index].split():\n",
    "            #words.append(dnaconvert(get_bin(abs(int(word)))))\n",
    "#             print(str(dnaconvert(get_bin(abs(int(word))))))\n",
    "            \n",
    "            #f.writelines(str(index) + str(worint(words))+\"\\n\")\n",
    "            f.writelines(str(worint(dnaconvert(get_bin(abs(int(float(word)))))))+\",\")\n",
    "    f.writelines(\"\\n\")\n",
    "     \n",
    "    \n",
    "        \n",
    "f.close()\n",
    "            # displaying the words  \n",
    "        \n"
   ]
  },
  {
   "cell_type": "code",
   "execution_count": 10,
   "metadata": {},
   "outputs": [
    {
     "data": {
      "text/plain": [
       "53"
      ]
     },
     "execution_count": 10,
     "metadata": {},
     "output_type": "execute_result"
    }
   ],
   "source": [
    "int(53.62745098)"
   ]
  },
  {
   "cell_type": "code",
   "execution_count": 11,
   "metadata": {},
   "outputs": [
    {
     "ename": "NameError",
     "evalue": "name 'words' is not defined",
     "output_type": "error",
     "traceback": [
      "\u001b[1;31m---------------------------------------------------------------------------\u001b[0m",
      "\u001b[1;31mNameError\u001b[0m                                 Traceback (most recent call last)",
      "\u001b[1;32m<ipython-input-11-cab657eb9c3f>\u001b[0m in \u001b[0;36m<module>\u001b[1;34m\u001b[0m\n\u001b[1;32m----> 1\u001b[1;33m \u001b[0mord\u001b[0m\u001b[1;33m(\u001b[0m\u001b[0mdnaToAmino\u001b[0m\u001b[1;33m(\u001b[0m\u001b[0mdnaconvert\u001b[0m\u001b[1;33m(\u001b[0m\u001b[0mget_bin\u001b[0m\u001b[1;33m(\u001b[0m\u001b[0mwords\u001b[0m\u001b[1;33m[\u001b[0m\u001b[1;36m0\u001b[0m\u001b[1;33m]\u001b[0m\u001b[1;33m)\u001b[0m\u001b[1;33m)\u001b[0m\u001b[1;33m)\u001b[0m\u001b[1;33m)\u001b[0m\u001b[1;33m\u001b[0m\u001b[1;33m\u001b[0m\u001b[0m\n\u001b[0m",
      "\u001b[1;31mNameError\u001b[0m: name 'words' is not defined"
     ]
    }
   ],
   "source": [
    "ord(dnaToAmino(dnaconvert(get_bin(words[0]))))\n"
   ]
  },
  {
   "cell_type": "code",
   "execution_count": 18,
   "metadata": {},
   "outputs": [
    {
     "data": {
      "text/plain": [
       "67"
      ]
     },
     "execution_count": 18,
     "metadata": {},
     "output_type": "execute_result"
    }
   ],
   "source": [
    "ord(\"C\")"
   ]
  },
  {
   "cell_type": "code",
   "execution_count": 14,
   "metadata": {},
   "outputs": [
    {
     "data": {
      "text/plain": [
       "68"
      ]
     },
     "execution_count": 14,
     "metadata": {},
     "output_type": "execute_result"
    }
   ],
   "source": [
    "ord(aminodict[\"GAC\"])"
   ]
  },
  {
   "cell_type": "code",
   "execution_count": null,
   "metadata": {},
   "outputs": [],
   "source": []
  }
 ],
 "metadata": {
  "kernelspec": {
   "display_name": "Python 3",
   "language": "python",
   "name": "python3"
  },
  "language_info": {
   "codemirror_mode": {
    "name": "ipython",
    "version": 3
   },
   "file_extension": ".py",
   "mimetype": "text/x-python",
   "name": "python",
   "nbconvert_exporter": "python",
   "pygments_lexer": "ipython3",
   "version": "3.8.3"
  }
 },
 "nbformat": 4,
 "nbformat_minor": 4
}
